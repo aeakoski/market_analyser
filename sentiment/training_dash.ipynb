{
 "cells": [
  {
   "cell_type": "markdown",
   "metadata": {},
   "source": [
    "# Imports"
   ]
  },
  {
   "cell_type": "code",
   "execution_count": 4,
   "metadata": {
    "scrolled": false
   },
   "outputs": [
    {
     "name": "stdout",
     "output_type": "stream",
     "text": [
      "Import done!\n"
     ]
    }
   ],
   "source": [
    "import pandas as pd\n",
    "from bs4 import BeautifulSoup # HTML Parser\n",
    "from gtts import gTTS # Google text to speach\n",
    "from afinn import Afinn # Sentiment analysis\n",
    "import requests # Web requests\n",
    "import statistics\n",
    "import csv\n",
    "import matplotlib.pyplot as plt\n",
    "import string\n",
    "\n",
    "print(\"Import done!\")"
   ]
  },
  {
   "cell_type": "markdown",
   "metadata": {},
   "source": [
    "# The dataset\n",
    "Trimmed as to only keep ngrams that appear more than 2 times, and where the standard deviation is at most 75% of the mean value"
   ]
  },
  {
   "cell_type": "code",
   "execution_count": 28,
   "metadata": {},
   "outputs": [
    {
     "name": "stdout",
     "output_type": "stream",
     "text": [
      "Original nr of lines: 22401\n",
      "Nr of lines: 284\n",
      "                            ngram       mean  wheight      stdev\n",
      "1723                       nu mer -33.805000        4  13.620106\n",
      "12643                       maj p -32.430000        7   3.527776\n",
      "4246   inköpschefsindex tillverkn -29.230000        4   0.000000\n",
      "18121                ind tjänster -29.230000        4   0.000000\n",
      "21458             sammanvägt prel -29.230000        4   0.000000\n",
      "6101         industrin tjänstesek -28.160000        4   0.000000\n",
      "22098       tjänstesek sammansatt -28.160000        4   0.000000\n",
      "10067               tillverkn ind -28.070000        5   2.593839\n",
      "20712                  i istanbul -27.865000        4   7.010000\n",
      "2682                      pmi nov -23.430000        5   0.000000\n",
      "2951                   närtid men -18.886000        5   8.048489\n",
      "1153              markit februari -15.960000        4   0.000000\n",
      "16906                    till fat -14.517500        4   5.692623\n",
      "21189                rörelserna i -13.302000        5   4.388134\n",
      "11058         fed aktivitetsindex -13.105000        6   6.204388\n",
      "13060     usa konsumentförtroende -13.050000        4   5.241495\n",
      "20509           kpi kärninflation -11.662500        4   5.307079\n",
      "6072                är slutsatsen -11.015000        4   5.214700\n",
      "9941                  i venezuela -10.110000        4   0.000000\n",
      "21308                     moody s  -9.060000        4   0.000000\n",
      "12898                       emu m  -8.937500        4   2.395932\n",
      "1592            på handelsområdet  -8.900000        4   2.505687\n",
      "21349               svag industri  -8.050000        4   4.632336\n",
      "5392           kommentarerna från  -7.680000        5   2.601797\n",
      "6946                      ökat de  -7.152000        5   4.937056\n",
      "13434             för euroområdet  -6.854000        5   3.742710\n",
      "12425               planerade att  -6.682500        4   3.707105\n",
      "13934            stabilisering av  -6.580000        4   4.909440\n",
      "12611                    från imf  -6.162000        5   4.327224\n",
      "6527                    är vilken  -5.920000        4   2.796212\n",
      "22190                    hur lång  -5.204286        7   4.601785\n",
      "7816                     visa att  -5.161250        8   4.629870\n",
      "39               fortsätter falla  -5.062500        4   3.796247\n",
      "4779                 har bidragit  -5.054286        7   4.888493\n",
      "14492                    dessa är  -4.485000        4   4.172941\n",
      "15859                  i utlandet  -4.408000        5   3.025900\n",
      "15586         homeland investment  -4.375000        4   3.492969\n",
      "21073              investment act  -4.375000        4   3.492969\n",
      "7616                      under q  -4.344000        5   4.120762\n",
      "17826             parlamentet ska  -4.342500        4   4.153114\n",
      "3590                       ock så  -4.317500        4   4.707387\n",
      "19108                    man står  -4.305000        4   4.804571\n",
      "3821                     inte får  -4.226667        6   4.992846\n",
      "405                        så det  -4.195000        4   2.667889\n",
      "2642                      för två  -4.082500        4   1.833873\n",
      "21003        penningpolitiken men  -4.035000        4   4.416775\n",
      "3673                     bnp data  -3.582000        5   0.753837\n",
      "705                  ligger still  -3.506000        5   3.043194\n",
      "21806             att sentimentet  -3.462500        4   1.646863\n",
      "268                        mest i  -3.397500        4   3.695902\n",
      "3056                       som eu  -3.331429        7   4.512990\n",
      "4405                    styrkan i  -3.320000        7   3.866432\n",
      "22097             ett ytterligare  -3.172500        4   4.800440\n",
      "16593              barometern för  -3.152500        4   2.251316\n",
      "32                       få rösta  -3.125000        4   4.955674\n",
      "22337                   till lite  -3.055000        4   1.832021\n",
      "10055                    idag när  -2.900000        6   4.562381\n",
      "11183                   lett till  -2.836667        6   4.898847\n",
      "6249               avmattning och  -2.605000        4   3.576055\n",
      "9365                  varor värda  -2.597500        4   3.819619\n",
      "                                ngram       mean  wheight      stdev\n",
      "20125                      begäran om  10.942500        4   4.774560\n",
      "4162                            aug f  11.095000        4   3.796213\n",
      "14612                  på riksbankens  11.525000        6   4.192149\n",
      "20594                         kpi jae  11.647500        4   2.879715\n",
      "4608                     omöjligt att  11.702500        4   5.020082\n",
      "16507                         om vårt  11.707500        4   5.021749\n",
      "11186              nedrevideringar av  11.880000        4   5.702415\n",
      "5789                  motsvarande usd  11.925000        4   4.764469\n",
      "4780           räntepunkters sänkning  12.185000        4   5.264133\n",
      "17699                    övervikt för  12.275000        4   4.932265\n",
      "4097                        nasdaq på  12.375000        4   6.041090\n",
      "13468                       sig också  12.805000        6   6.061643\n",
      "9310                          ecb har  12.820000        6   3.417859\n",
      "21194                        upp idag  13.010000        6   4.920630\n",
      "17107                  den europeiska  13.125000        4   1.457040\n",
      "17493                        lösa upp  13.174000        5   6.491466\n",
      "18255                        berg och  13.182500        4   2.218774\n",
      "7452                    tillförsikt i  13.440000        4   6.408640\n",
      "9849                       höjning är  13.597500        4   3.792171\n",
      "18915                         ska det  13.626000        5   5.185102\n",
      "19980              positiv avkastning  13.660000        5   6.140081\n",
      "5766                         möte som  13.982500        4   3.335170\n",
      "8481                     indikator på  14.125000        4   3.130500\n",
      "7763                internationellt s  14.345000        6   6.677717\n",
      "2436                  tjänster totalt  14.455556        9   3.657701\n",
      "13871                   totalt markit  14.455556        9   3.657701\n",
      "21583                    pmi industri  14.455556        9   3.657701\n",
      "20317                     stanna kvar  14.798000        5   5.701598\n",
      "8533                         innan eu  14.975000        4   3.692122\n",
      "12735                   rörelserna på  15.096250        8   6.154780\n",
      "16825                vikande tillväxt  15.397500        4   6.886414\n",
      "16916                          tal om  15.407500        4   5.508475\n",
      "5565                        de lämnar  15.585000        4   4.269493\n",
      "12095                      pundet läs  15.650000        4   7.086452\n",
      "1794                      tvinga fram  15.974000        5   7.798672\n",
      "16448                     ändringar i  16.142000        5   6.763311\n",
      "22297                      bara varit  16.535000        4   5.911602\n",
      "1869                          vad hon  16.620000        4   0.000000\n",
      "2369                    reviderad nov  16.620000        4   0.000000\n",
      "7178                   hikp reviderad  16.620000        4   0.000000\n",
      "17697                 på konjunkturen  16.676000        5   6.197216\n",
      "20286                      tanken att  17.132500        4   6.741391\n",
      "3513                   markit januari  17.420000        5   0.000000\n",
      "5062   tillverkningsindustri tjänster  17.420000        5   0.000000\n",
      "5462              tjänster kombinerat  17.420000        5   0.000000\n",
      "7745                kombinerat markit  17.420000        5   0.000000\n",
      "17774       pmi tillverkningsindustri  17.420000        5   0.000000\n",
      "2974                    underskott på  17.608000        5   4.413306\n",
      "15824                       lovat att  18.004000        5   6.128595\n",
      "5831                     amerikan ska  18.362500        4   4.527084\n",
      "17755                        inte som  18.795000        4   1.794482\n",
      "3447                       att slippa  19.445000        4   8.640519\n",
      "20108     tillverkningsindustrin juni  19.570000        4   0.000000\n",
      "4064                          igår då  22.690000        4   5.013309\n",
      "19420                           med m  23.812500        4   3.373113\n",
      "3421                     sitt innehav  27.452500        4  10.785000\n",
      "14020     amerikanska valutapolitiken  28.010000        4   0.000000\n",
      "2308              sammanvägd tjänster  28.430000        6   0.000000\n",
      "19175                  pmi sammanvägd  28.430000        6   0.000000\n",
      "12546                icke finansiella  37.092500        4   9.100492\n",
      "Done\n"
     ]
    }
   ],
   "source": [
    "train_df = pd.read_csv(\"./training.csv\")\n",
    "trimmed_df = train_df[(train_df[\"wheight\"] > 3) & ((train_df[\"stdev\"] < abs(train_df[\"mean\"])/2) | (train_df[\"stdev\"]<5))]\n",
    "\n",
    "print(\"Original nr of lines: \" + str(train_df.shape[0]))\n",
    "print(\"Nr of lines: \" + str(trimmed_df.shape[0]))\n",
    "\n",
    "print(trimmed_df.sort_values(by=['mean', 'stdev']).head(60))\n",
    "print(trimmed_df.sort_values(by=['mean', 'stdev']).tail(60))\n",
    "print(\"Done\")"
   ]
  },
  {
   "cell_type": "code",
   "execution_count": null,
   "metadata": {},
   "outputs": [],
   "source": []
  }
 ],
 "metadata": {
  "kernelspec": {
   "display_name": "Python 2",
   "language": "python",
   "name": "python2"
  },
  "language_info": {
   "codemirror_mode": {
    "name": "ipython",
    "version": 3
   },
   "file_extension": ".py",
   "mimetype": "text/x-python",
   "name": "python",
   "nbconvert_exporter": "python",
   "pygments_lexer": "ipython3",
   "version": "3.6.9"
  }
 },
 "nbformat": 4,
 "nbformat_minor": 4
}
