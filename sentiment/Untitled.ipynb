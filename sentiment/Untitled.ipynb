{
 "cells": [
  {
   "cell_type": "markdown",
   "metadata": {},
   "source": [
    "# Imports"
   ]
  },
  {
   "cell_type": "code",
   "execution_count": 4,
   "metadata": {
    "scrolled": false
   },
   "outputs": [
    {
     "name": "stdout",
     "output_type": "stream",
     "text": [
      "Import done!\n"
     ]
    }
   ],
   "source": [
    "import pandas as pd\n",
    "from bs4 import BeautifulSoup # HTML Parser\n",
    "from gtts import gTTS # Google text to speach\n",
    "from afinn import Afinn # Sentiment analysis\n",
    "import requests # Web requests\n",
    "import statistics\n",
    "import csv\n",
    "import matplotlib.pyplot as plt\n",
    "import string\n",
    "\n",
    "print(\"Import done!\")"
   ]
  },
  {
   "cell_type": "markdown",
   "metadata": {},
   "source": [
    "# The dataset\n",
    "Trimmed as to only keep ngrams that appear more than 2 times, and where the standard deviation is at most 75% of the mean value"
   ]
  },
  {
   "cell_type": "code",
   "execution_count": 40,
   "metadata": {},
   "outputs": [
    {
     "name": "stdout",
     "output_type": "stream",
     "text": [
      "Original nr of lines: 22401\n",
      "Nr of lines: 4586\n",
      "                  ngram     mean  wheight      stdev\n",
      "14570           swe kpi -159.830        2   0.000000\n",
      "1511            feb swe -159.830        3   0.000000\n",
      "1890           swe kpif -159.830        2   0.000000\n",
      "14859     måndag enligt -110.170        2  70.229846\n",
      "1771        italien med  -83.730        2   4.002224\n",
      "...                 ...      ...      ...        ...\n",
      "4814       kronor under   43.485        2   0.205061\n",
      "17623    av värdepapper   43.630        2   0.000000\n",
      "16500  stängde måndagen   43.630        2   0.000000\n",
      "14840    till miljarder   43.630        2   0.000000\n",
      "13189         skedde en   43.630        2   0.000000\n",
      "\n",
      "[4586 rows x 4 columns]\n",
      "Done\n"
     ]
    }
   ],
   "source": [
    "train_df = pd.read_csv(\"./training.csv\")\n",
    "trimmed_df = train_df[(train_df[\"wheight\"] > 1) & (train_df[\"stdev\"] < abs(train_df[\"mean\"])/1.5)]\n",
    "\n",
    "print(\"Original nr of lines: \" + str(train_df.shape[0]))\n",
    "print(\"Nr of lines: \" + str(trimmed_df.shape[0]))\n",
    "print(trimmed_df.sort_values(by=['mean']).head(5000))\n",
    "print(\"Done\")"
   ]
  },
  {
   "cell_type": "code",
   "execution_count": null,
   "metadata": {},
   "outputs": [],
   "source": []
  }
 ],
 "metadata": {
  "kernelspec": {
   "display_name": "Python 2",
   "language": "python",
   "name": "python2"
  },
  "language_info": {
   "codemirror_mode": {
    "name": "ipython",
    "version": 3
   },
   "file_extension": ".py",
   "mimetype": "text/x-python",
   "name": "python",
   "nbconvert_exporter": "python",
   "pygments_lexer": "ipython3",
   "version": "3.6.9"
  }
 },
 "nbformat": 4,
 "nbformat_minor": 4
}
